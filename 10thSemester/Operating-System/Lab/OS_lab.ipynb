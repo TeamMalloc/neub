{
  "nbformat": 4,
  "nbformat_minor": 0,
  "metadata": {
    "colab": {
      "provenance": []
    },
    "kernelspec": {
      "name": "python3",
      "display_name": "Python 3"
    },
    "language_info": {
      "name": "python"
    }
  },
  "cells": [
    {
      "cell_type": "code",
      "execution_count": null,
      "metadata": {
        "colab": {
          "base_uri": "https://localhost:8080/"
        },
        "id": "AQsX6NlO2a4C",
        "outputId": "0751f3c6-214e-43a6-cd0c-7c568e425513"
      },
      "outputs": [
        {
          "name": "stdout",
          "output_type": "stream",
          "text": [
            "Number of process: 3\n"
          ]
        }
      ],
      "source": [
        "n = int(input(\"Number of process: \"))"
      ]
    },
    {
      "cell_type": "code",
      "source": [
        "arr = [[0 for i in range(7)] for j in range(n)]"
      ],
      "metadata": {
        "id": "TYdK6VsQ2mxt"
      },
      "execution_count": null,
      "outputs": []
    },
    {
      "cell_type": "code",
      "source": [
        "print(arr)"
      ],
      "metadata": {
        "colab": {
          "base_uri": "https://localhost:8080/"
        },
        "id": "3vaJ7cN_3QO7",
        "outputId": "4ef52bc7-c123-4412-e030-3bdc16490217"
      },
      "execution_count": null,
      "outputs": [
        {
          "output_type": "stream",
          "name": "stdout",
          "text": [
            "[[0, 0, 0, 0, 0, 0, 0], [0, 0, 0, 0, 0, 0, 0], [0, 0, 0, 0, 0, 0, 0]]\n"
          ]
        }
      ]
    },
    {
      "cell_type": "code",
      "source": [
        "for i in range(n):\n",
        "  pid,at,bt = input().split()\n",
        "  arr[i][0] = int(pid)\n",
        "  arr[i][1] = int(at)\n",
        "  arr[i][2] = int (bt)"
      ],
      "metadata": {
        "colab": {
          "base_uri": "https://localhost:8080/"
        },
        "id": "Hg2eQcsq3f-j",
        "outputId": "7f3c4e4e-5120-48fa-eb8f-7c4accf3df27"
      },
      "execution_count": null,
      "outputs": [
        {
          "name": "stdout",
          "output_type": "stream",
          "text": [
            "1 6 5\n",
            "2 1 4\n",
            "3 7 6\n"
          ]
        }
      ]
    },
    {
      "cell_type": "code",
      "source": [
        "print(arr)"
      ],
      "metadata": {
        "colab": {
          "base_uri": "https://localhost:8080/"
        },
        "id": "he9r-tI850zU",
        "outputId": "aabe5f1d-011b-4e3b-a584-9036305c470c"
      },
      "execution_count": null,
      "outputs": [
        {
          "output_type": "stream",
          "name": "stdout",
          "text": [
            "[[1, 6, 5, 0, 0, 0, 0], [2, 1, 4, 0, 0, 0, 0], [3, 7, 6, 0, 0, 0, 0]]\n"
          ]
        }
      ]
    },
    {
      "cell_type": "code",
      "source": [
        "arr = sorted(arr, key=lambda x:x[1])"
      ],
      "metadata": {
        "id": "n4K5fkB97IVc"
      },
      "execution_count": null,
      "outputs": []
    },
    {
      "cell_type": "code",
      "source": [
        "print(arr)"
      ],
      "metadata": {
        "colab": {
          "base_uri": "https://localhost:8080/"
        },
        "id": "-j9aFwD37fLk",
        "outputId": "b80eea49-68d4-42e1-cb9f-72055b6b9a41"
      },
      "execution_count": null,
      "outputs": [
        {
          "output_type": "stream",
          "name": "stdout",
          "text": [
            "[[2, 1, 4, 0, 0, 0, 0], [1, 6, 5, 0, 0, 0, 0], [3, 7, 6, 0, 0, 0, 0]]\n"
          ]
        }
      ]
    },
    {
      "cell_type": "code",
      "source": [
        "avg_rt, avg_ct, avg_wt, avg_tt = 0, 0, 0, 0\n",
        "current_time = 0\n",
        "for i in range(n):\n",
        "  at = arr[i][1]\n",
        "  bt = arr[i][2]\n",
        "  if current_time < at:\n",
        "    current_time = at\n",
        "  starting_time = current_time\n",
        "  ct = starting_time + bt\n",
        "\n",
        "  arr[i][3] = starting_time - at # Response Time\n",
        "  arr[i][4] = ct # CT\n",
        "  arr[i][6] = ct-at # TT\n",
        "  arr[i][5] = arr[i][6] - bt # WT\n",
        "\n",
        "  avg_rt = avg_rt + arr[i][3]\n",
        "  avg_ct = avg_ct + arr[i][4] \n",
        "  avg_wt = avg_wt + arr[i][5]\n",
        "  avg_tt = avg_tt + arr[i][6]\n",
        "  current_time = ct"
      ],
      "metadata": {
        "id": "NZEXcmBK8ARr"
      },
      "execution_count": null,
      "outputs": []
    },
    {
      "cell_type": "code",
      "source": [
        "print(arr)"
      ],
      "metadata": {
        "colab": {
          "base_uri": "https://localhost:8080/"
        },
        "id": "0ixuRLhm_fYD",
        "outputId": "f38a16da-baf1-421a-d4fb-5d40cd7c599a"
      },
      "execution_count": null,
      "outputs": [
        {
          "output_type": "stream",
          "name": "stdout",
          "text": [
            "[[2, 1, 4, 0, 5, 0, 4], [1, 6, 5, 0, 11, 0, 5], [3, 7, 6, 4, 17, 4, 10]]\n"
          ]
        }
      ]
    },
    {
      "cell_type": "code",
      "source": [
        "avg_rt = avg_rt / n\n",
        "avg_ct = avg_ct / n\n",
        "avg_wt = avg_wt / n\n",
        "avg_tt = avg_tt / n\n",
        "\n",
        "print(\"AVG_RT : \"+str(avg_rt)+'\\n'+\"AVG_CT : \"+str(avg_ct))"
      ],
      "metadata": {
        "colab": {
          "base_uri": "https://localhost:8080/"
        },
        "id": "n7EoN-76A4zq",
        "outputId": "9022b6cd-b90b-4fcf-dd2e-e779a9d5ce5d"
      },
      "execution_count": null,
      "outputs": [
        {
          "output_type": "stream",
          "name": "stdout",
          "text": [
            "AVG_RT : 1.3333333333333333\n",
            "AVG_CT : 11.0\n"
          ]
        }
      ]
    }
  ]
}