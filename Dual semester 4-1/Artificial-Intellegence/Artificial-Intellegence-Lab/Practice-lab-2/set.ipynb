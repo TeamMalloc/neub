# -*- coding: utf-8 -*-
"""
Created on Fri Aug 12 15:12:08 2022

@author: Abdul Mutalib
"""

